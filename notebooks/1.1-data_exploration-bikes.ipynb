{
 "cells": [
  {
   "cell_type": "markdown",
   "metadata": {},
   "source": [
    "<img src=\"https://gist.githubusercontent.com/jakubczakon/10e5eb3d5024cc30cdb056d5acd3d92f/raw/5c464c16ccbc7150b4025e0a2a05b84ab99a7bc3/logo_DS_AI.png\" alt=\"Drawing\" width=\"600\"/>\n",
    "\n",
    "# deepsense.ai's workshop"
   ]
  },
  {
   "cell_type": "markdown",
   "metadata": {},
   "source": [
    "# 1.1. Data exploration (bikes)\n",
    "\n",
    "* Loading data\n",
    "* Calculating summary statistics\n",
    "* Creating plots"
   ]
  },
  {
   "cell_type": "markdown",
   "metadata": {},
   "source": [
    "### Preamble\n",
    "\n",
    "Before writing actual code, we need to import libraries. Typically all libraries sit at the top of a file."
   ]
  },
  {
   "cell_type": "code",
   "execution_count": null,
   "metadata": {},
   "outputs": [],
   "source": [
    "# library for loading data and tables\n",
    "# we will use it a lot, so we use its standard abbreviation - pd\n",
    "import pandas as pd\n",
    "\n",
    "# interactive HTML profile reports from a pandas DataFrame\n",
    "from ydata_profiling import ProfileReport\n",
    "\n",
    "import matplotlib.pyplot as plt\n",
    "# IPython Notebook option to show plots in the notebook (not in a separate window)\n",
    "%matplotlib inline\n",
    "\n",
    "# plotting library\n",
    "# loading it changes default styles to much nicer ones\n",
    "import seaborn as sns\n",
    "sns.set()"
   ]
  },
  {
   "cell_type": "markdown",
   "metadata": {},
   "source": [
    "## Bike Sharing Dataset\n",
    "\n",
    "We will be working with a 2 year record of bike renting in Washington DC.\n",
    "https://archive.ics.uci.edu/ml/datasets/Bike+Sharing+Dataset\n",
    "\n",
    "The official description of columns goes as follows:\n",
    "\n",
    "- `instant`: record index\n",
    "- `dteday`: date\n",
    "- `season`: season (1:spring, 2:summer, 3:fall, 4:winter)\n",
    "- `yr`: year (0: 2011, 1:2012)\n",
    "- `mnth`: month ( 1 to 12)\n",
    "- `holiday`: whether day is holiday or not (extracted from [Web Link](http://dchr.dc.gov/page/holiday-schedule))\n",
    "- `weekday`: day of the week\n",
    "- `workingday`: if day is neither weekend nor holiday is 1, otherwise is 0.\n",
    "- `weathersit`: \n",
    "    - 1: Clear, Few clouds, Partly cloudy\n",
    "    - 2: Mist + Cloudy, Mist + Broken clouds, Mist + Few clouds, Mist\n",
    "    - 3: Light Snow, Light Rain + Thunderstorm + Scattered clouds, Light Rain + Scattered clouds\n",
    "    - 4: Heavy Rain + Ice Pallets + Thunderstorm + Mist, Snow + Fog\n",
    "- `temp`: Normalized temperature in Celsius. The values are derived via (t-t_min)/(t_max-t_min), t_min=-8, t_max=+39 (only in hourly scale)\n",
    "- `atemp`: Normalized feeling temperature in Celsius. The values are derived via (t-t_min)/(t_max-t_min), t_min=-16, t_max=+50 (only in hourly scale)\n",
    "- `hum`: Normalized humidity. The values are divided to 100 (max)\n",
    "- `windspeed`: Normalized wind speed. The values are divided to 67 (max)\n",
    "- `casual`: count of casual users\n",
    "- `registered`: count of registered users\n",
    "- `cnt`: count of total rental bikes including both casual and registered"
   ]
  },
  {
   "cell_type": "code",
   "execution_count": null,
   "metadata": {},
   "outputs": [],
   "source": [
    "# pd.read_csv reads comma-separated values as DataFrame\n",
    "# it infers format of integers, floats and strings,\n",
    "# but date columns need to be specified\n",
    "df = pd.read_csv(\"data/Bike-Sharing-Dataset/day.csv\", parse_dates=[\"dteday\"])"
   ]
  },
  {
   "cell_type": "markdown",
   "metadata": {},
   "source": [
    "## Simple exploration\n",
    "\n",
    "Before we do **any** machine learning it's essential to explore data. Reading its description is crucial, but not enough!\n",
    "\n",
    "Possible issues we can catch:\n",
    "\n",
    "* missing values (are there? often? correlated?),\n",
    "* inconsistent schema (e.g. zip codes sometimes as strings, sometimes as numbers),\n",
    "* inconsistent values (e.g. \"USA\" and \"United States\" for the same country),\n",
    "* abundance of certain data, biases (e.g. in plants and animals data, 90% are plants),\n",
    "* censoring (e.g. people with high income capped at a given number),\n",
    "* absurd values (especially for self-reported fields), \n",
    "* units (e.g. time in seconds, or money in local currency).\n",
    "\n",
    "Data is as it is. Data scientists claim that they use 80-90% of their time to clean and prepare data.\n",
    "\n",
    "Investigating data quality is not a nuisance - it's a big part of being a data scientist! And often it's a fascinating exploration.\n",
    "\n",
    "Do you know anything about biking patterns? I don't. But I would love to learn (from the data)!"
   ]
  },
  {
   "cell_type": "code",
   "execution_count": null,
   "metadata": {},
   "outputs": [],
   "source": [
    "# df.head() shows the first 5 rows of a dataframe \n",
    "df.head()"
   ]
  },
  {
   "cell_type": "code",
   "execution_count": null,
   "metadata": {},
   "outputs": [],
   "source": [
    "# a python start with a `head` and ends with a `tail`\n",
    "df.tail(3)"
   ]
  },
  {
   "cell_type": "markdown",
   "metadata": {},
   "source": [
    "### Exercise\n",
    "\n",
    "* Decipher weekdays. Is `0`: `Sunday`, `Monday` or something different?"
   ]
  },
  {
   "cell_type": "code",
   "execution_count": null,
   "metadata": {},
   "outputs": [],
   "source": [
    "# list column names\n",
    "df.columns"
   ]
  },
  {
   "cell_type": "code",
   "execution_count": null,
   "metadata": {},
   "outputs": [],
   "source": [
    "# number of rows and number of columns\n",
    "df.shape"
   ]
  },
  {
   "cell_type": "code",
   "execution_count": null,
   "metadata": {},
   "outputs": [],
   "source": [
    "# types for each column\n",
    "df.dtypes"
   ]
  },
  {
   "cell_type": "code",
   "execution_count": null,
   "metadata": {
    "scrolled": true
   },
   "outputs": [],
   "source": [
    "# show a given column\n",
    "df[\"dteday\"]"
   ]
  },
  {
   "cell_type": "code",
   "execution_count": null,
   "metadata": {
    "scrolled": true
   },
   "outputs": [],
   "source": [
    "# we can also use a dot\n",
    "df.dteday"
   ]
  },
  {
   "cell_type": "code",
   "execution_count": null,
   "metadata": {},
   "outputs": [],
   "source": [
    "# plot a column\n",
    "df[\"windspeed\"].plot(figsize=(12,6))"
   ]
  },
  {
   "cell_type": "code",
   "execution_count": null,
   "metadata": {},
   "outputs": [],
   "source": [
    "# for more readable plots we set 'dteday' as the index\n",
    "df = df.set_index(\"dteday\")\n",
    "# WARNING: do it only once; when you do it there is no longer `dteday` column"
   ]
  },
  {
   "cell_type": "code",
   "execution_count": null,
   "metadata": {},
   "outputs": [],
   "source": [
    "df.head(3)"
   ]
  },
  {
   "cell_type": "code",
   "execution_count": null,
   "metadata": {},
   "outputs": [],
   "source": [
    "df[\"windspeed\"].plot(figsize=(12,6))"
   ]
  },
  {
   "cell_type": "markdown",
   "metadata": {},
   "source": [
    "### Exercise\n",
    "\n",
    "* Try plotting other variables (e.g. `hum` and `temp`). "
   ]
  },
  {
   "cell_type": "code",
   "execution_count": null,
   "metadata": {},
   "outputs": [],
   "source": [
    "# df.query(\"condition\") creates a DataFrame  \n",
    "df.query(\"cnt < 500\")"
   ]
  },
  {
   "cell_type": "code",
   "execution_count": null,
   "metadata": {},
   "outputs": [],
   "source": [
    "# we can obtain the same result in another way\n",
    "df[df.cnt < 500]"
   ]
  },
  {
   "cell_type": "markdown",
   "metadata": {},
   "source": [
    "### Exercise\n",
    "\n",
    "* Look at the total number of rentals on the 29th of October 2012. Is that data error? Google the answer."
   ]
  },
  {
   "cell_type": "code",
   "execution_count": null,
   "metadata": {},
   "outputs": [],
   "source": [
    "df[[\"temp\", \"cnt\"]].plot(figsize=(12,6))"
   ]
  },
  {
   "cell_type": "code",
   "execution_count": null,
   "metadata": {},
   "outputs": [],
   "source": [
    "#to make plot sensible let us rescale unnormalized variables\n",
    "df[\"cnt_scaled\"] = df[\"cnt\"]/df[\"cnt\"].max()"
   ]
  },
  {
   "cell_type": "code",
   "execution_count": null,
   "metadata": {},
   "outputs": [],
   "source": [
    "df[[\"temp\", \"cnt_scaled\"]].plot(figsize=(12,6))"
   ]
  },
  {
   "cell_type": "code",
   "execution_count": null,
   "metadata": {},
   "outputs": [],
   "source": [
    "df.drop([\"cnt_scaled\"], axis=1, inplace=True)"
   ]
  },
  {
   "cell_type": "markdown",
   "metadata": {},
   "source": [
    "### Exercise\n",
    "\n",
    "* Show registered and casual users on the same plot.\n",
    "* Show humidity, temperature and wind speed on the same plot. "
   ]
  },
  {
   "cell_type": "code",
   "execution_count": null,
   "metadata": {},
   "outputs": [],
   "source": [
    "# what is computed in this table?\n",
    "df.pivot_table(index=\"mnth\", columns='season', values=\"instant\", aggfunc=len).fillna(0)"
   ]
  },
  {
   "cell_type": "markdown",
   "metadata": {},
   "source": [
    "### Exercise\n",
    "\n",
    "* What is wrong with the above? (Hint: look at column descriptions at the beginning of the notebook.)"
   ]
  },
  {
   "cell_type": "code",
   "execution_count": null,
   "metadata": {},
   "outputs": [],
   "source": [
    "# mean of each column\n",
    "df.mean()"
   ]
  },
  {
   "cell_type": "code",
   "execution_count": null,
   "metadata": {},
   "outputs": [],
   "source": [
    "# series.value_counts() show all values along their counts\n",
    "df[\"season\"].value_counts().sort_index()"
   ]
  },
  {
   "cell_type": "code",
   "execution_count": null,
   "metadata": {},
   "outputs": [],
   "source": [
    "# and now as plots\n",
    "df[\"season\"].value_counts().sort_index().plot(kind=\"bar\")"
   ]
  },
  {
   "cell_type": "markdown",
   "metadata": {},
   "source": [
    "### Exercise \n",
    "\n",
    "* Make similar plots for `weathersit` and `holiday`."
   ]
  },
  {
   "cell_type": "code",
   "execution_count": null,
   "metadata": {},
   "outputs": [],
   "source": [
    "# Can holiday be a working day?\n",
    "df[df.holiday == 1].workingday.unique()"
   ]
  },
  {
   "cell_type": "markdown",
   "metadata": {},
   "source": [
    "### Exercise \n",
    "\n",
    "* Is every non-workingday a holiday?"
   ]
  },
  {
   "cell_type": "code",
   "execution_count": null,
   "metadata": {},
   "outputs": [],
   "source": [
    "# statistics\n",
    "df[\"temp\"].describe()"
   ]
  },
  {
   "cell_type": "code",
   "execution_count": null,
   "metadata": {},
   "outputs": [],
   "source": [
    "# series.hist() plots a histogram\n",
    "# you can tweak the number of bins by using keyword argument bins (by default it is 10)\n",
    "df[\"workingday\"].hist(bins=25)"
   ]
  },
  {
   "cell_type": "markdown",
   "metadata": {},
   "source": [
    "### Exercise\n",
    "\n",
    "* Plot histogram of registered users. Tweak bins to your taste. "
   ]
  },
  {
   "cell_type": "code",
   "execution_count": null,
   "metadata": {},
   "outputs": [],
   "source": [
    "# a scatter plot\n",
    "df.plot(kind='scatter', x='temp', y='hum')"
   ]
  },
  {
   "cell_type": "code",
   "execution_count": null,
   "metadata": {},
   "outputs": [],
   "source": [
    "# describe all numerical columns\n",
    "df.describe()"
   ]
  },
  {
   "cell_type": "code",
   "execution_count": null,
   "metadata": {},
   "outputs": [],
   "source": [
    "# table of Pearson correlation coefficient\n",
    "df.corr()"
   ]
  },
  {
   "cell_type": "code",
   "execution_count": null,
   "metadata": {},
   "outputs": [],
   "source": [
    "# too hard to read? a heatmap from seaborn makes it much cleaner\n",
    "sns.heatmap(df.corr())"
   ]
  },
  {
   "cell_type": "code",
   "execution_count": null,
   "metadata": {},
   "outputs": [],
   "source": [
    "# or maybe even a sorted correlation plot?\n",
    "sns.clustermap(df.corr())"
   ]
  },
  {
   "cell_type": "code",
   "execution_count": null,
   "metadata": {
    "scrolled": true
   },
   "outputs": [],
   "source": [
    "# sns.catplot allows us to analyze multifactor relations\n",
    "# other parameters: hue and row\n",
    "sns.catplot(data=df,                                   # dataframe\n",
    "            x=\"weekday\", y=\"cnt\",                      # mandatory parameters\n",
    "            col=\"season\",                              # optional parameters\n",
    "            col_wrap=4,\n",
    "            order=[0, 1, 2, 3, 4, 5, 6],               # by default entries are not sorted\n",
    "            kind=\"bar\")                                # plot type, optional"
   ]
  },
  {
   "cell_type": "markdown",
   "metadata": {},
   "source": [
    "### Exercises\n",
    "\n",
    "* Using `sns.catplot` show dependency of the `casual` user count on the day of `week` and `mnth`."
   ]
  },
  {
   "cell_type": "code",
   "execution_count": null,
   "metadata": {},
   "outputs": [],
   "source": [
    "# all in one - profiling report\n",
    "ProfileReport(df, title=\"Profiling Report\")\n",
    "# Note: Jupyter Lab 0.34.8 displays it incorrectly. Try Jupyter Notebook instead."
   ]
  },
  {
   "cell_type": "code",
   "execution_count": null,
   "metadata": {},
   "outputs": [],
   "source": [
    "# or maybe you prefer to watch a separated html file\n",
    "profile = ProfileReport(df, title=\"Profiling Report\")\n",
    "profile.to_file(\"your_report.html\")"
   ]
  }
 ],
 "metadata": {
  "kernelspec": {
   "display_name": "Python 3 (ipykernel)",
   "language": "python",
   "name": "python3"
  },
  "language_info": {
   "codemirror_mode": {
    "name": "ipython",
    "version": 3
   },
   "file_extension": ".py",
   "mimetype": "text/x-python",
   "name": "python",
   "nbconvert_exporter": "python",
   "pygments_lexer": "ipython3",
   "version": "3.11.9"
  }
 },
 "nbformat": 4,
 "nbformat_minor": 4
}
