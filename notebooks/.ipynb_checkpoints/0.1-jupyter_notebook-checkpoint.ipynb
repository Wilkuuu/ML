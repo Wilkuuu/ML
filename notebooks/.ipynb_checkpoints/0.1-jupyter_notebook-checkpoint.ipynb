{
 "cells": [
  {
   "cell_type": "markdown",
   "metadata": {},
   "source": [
    "<img src=\"https://gist.githubusercontent.com/jakubczakon/10e5eb3d5024cc30cdb056d5acd3d92f/raw/5c464c16ccbc7150b4025e0a2a05b84ab99a7bc3/logo_DS_AI.png\" alt=\"Drawing\" width=\"600\"/>\n",
    "\n",
    "# deepsense.ai's workshop"
   ]
  },
  {
   "cell_type": "markdown",
   "metadata": {},
   "source": [
    "# 0.1 Introduction to Jupyter Notebook"
   ]
  },
  {
   "cell_type": "markdown",
   "metadata": {},
   "source": [
    "Jupyter Notebook allows a few things, which are \n",
    "\n",
    "* iterative development,\n",
    "* modifying code on feedback,\n",
    "* incorporating plots,\n",
    "* adding notes (including pictures and equations)\n",
    "\n",
    "This environment is frequently used in data science, especially during exploratory data analysis, and during initial machine learning.\n",
    "\n",
    "It's data, it's the unknown. So you need a lot of feedback from it.\n",
    "\n",
    "Oh, and Jupyter Notebooks are great for learning and presenting. \n",
    "\n",
    "(BTW: This note is in Jupyter Notebook as well!)"
   ]
  },
  {
   "cell_type": "markdown",
   "metadata": {},
   "source": [
    "## Code\n",
    "\n",
    "Press `[shift]+[enter]` to execute a cell."
   ]
  },
  {
   "cell_type": "code",
   "execution_count": null,
   "metadata": {
    "is_executing": true
   },
   "outputs": [],
   "source": [
    "2 + 5"
   ]
  },
  {
   "cell_type": "code",
   "execution_count": null,
   "metadata": {},
   "outputs": [],
   "source": [
    "pets = [\"cat\", \"python\", \"elephant\"]\n",
    "\n",
    "for pet in pets:\n",
    "    print(\"I have a {}. A wonderful animal, indeed!\".format(pet.upper()))"
   ]
  },
  {
   "cell_type": "code",
   "execution_count": null,
   "metadata": {},
   "outputs": [],
   "source": [
    "[len(pet) for pet in pets]"
   ]
  },
  {
   "cell_type": "markdown",
   "metadata": {},
   "source": [
    "## Markdown\n",
    "\n",
    "**Markdown** in a [markup language](https://en.wikipedia.org/wiki/Markup_language) allowing us to write notes.\n",
    "\n",
    "It includes:\n",
    "\n",
    "* lists,\n",
    "* *italics*,\n",
    "* **bold text**,\n",
    "* ~~strikethrough~~,\n",
    "* `monospaced code`,\n",
    "* [links](http://deepsense.ai/).\n",
    "\n",
    "\n",
    "Moreover, it has support both for inline $\\LaTeX$ formulas such as $\\sqrt{2} = 1.41\\ldots$ and full line equations:\n",
    "\n",
    "$$\\sum_{k=1}^\\infty \\frac{(-1)^k}{2k-1} = 1 - \\tfrac{1}{3} + \\tfrac{1}{5} + \\ldots = \\frac{\\pi}{4} $$\n",
    "\n",
    "And, of course, code blocks:\n",
    "\n",
    "```\n",
    "var list = [\"a\", \"list\", \"in\", \"JavaScript\", \"ES6\"];\n",
    "list\n",
    "  .map((x) => x.length)\n",
    "  .reduce((x, y) => x + y);\n",
    "\n",
    "```\n"
   ]
  },
  {
   "cell_type": "markdown",
   "metadata": {},
   "source": [
    "## Code autocompletion"
   ]
  },
  {
   "cell_type": "code",
   "execution_count": null,
   "metadata": {},
   "outputs": [],
   "source": [
    "from numpy import random"
   ]
  },
  {
   "cell_type": "code",
   "execution_count": null,
   "metadata": {},
   "outputs": [],
   "source": [
    "random."
   ]
  },
  {
   "cell_type": "markdown",
   "metadata": {},
   "source": [
    " Start writing `random.r` and press `tab`. "
   ]
  },
  {
   "cell_type": "code",
   "execution_count": null,
   "metadata": {},
   "outputs": [],
   "source": [
    "random.randn?"
   ]
  },
  {
   "cell_type": "markdown",
   "metadata": {},
   "source": [
    "## IPython magic\n",
    "\n",
    "Cells starting with `%%something` are special. For example, we can measure thier performance!"
   ]
  },
  {
   "cell_type": "code",
   "execution_count": null,
   "metadata": {},
   "outputs": [],
   "source": [
    "%%timeit\n",
    "acc = 0\n",
    "for x in range(1000000):\n",
    "    acc += 1"
   ]
  },
  {
   "cell_type": "code",
   "execution_count": null,
   "metadata": {},
   "outputs": [],
   "source": [
    "%%timeit\n",
    "acc = 0\n",
    "for x in range(1000000):\n",
    "    acc += x**5 - 3 * x**2"
   ]
  },
  {
   "cell_type": "markdown",
   "metadata": {},
   "source": [
    "## Shell commands\n",
    "\n",
    "Only in unix-based systems (Linux, Mac OS X)"
   ]
  },
  {
   "cell_type": "code",
   "execution_count": null,
   "metadata": {},
   "outputs": [],
   "source": [
    "!dir"
   ]
  },
  {
   "cell_type": "code",
   "execution_count": null,
   "metadata": {},
   "outputs": [],
   "source": [
    "files = !dir\n",
    "for f in files:\n",
    "    if \"ipynb\" in f:\n",
    "        print(f)"
   ]
  },
  {
   "cell_type": "markdown",
   "metadata": {},
   "source": [
    "## HTML and JavaScript"
   ]
  },
  {
   "cell_type": "code",
   "execution_count": null,
   "metadata": {},
   "outputs": [],
   "source": [
    "from IPython.display import Javascript, HTML"
   ]
  },
  {
   "cell_type": "code",
   "execution_count": null,
   "metadata": {},
   "outputs": [],
   "source": [
    "Javascript(\"alert('It is JavaScript!')\")"
   ]
  },
  {
   "cell_type": "code",
   "execution_count": null,
   "metadata": {},
   "outputs": [],
   "source": [
    "HTML(\"We can <i>generate</i> <code>html</code> code <b>directly</b>!\")"
   ]
  },
  {
   "cell_type": "markdown",
   "metadata": {},
   "source": [
    "## Plots"
   ]
  },
  {
   "cell_type": "code",
   "execution_count": null,
   "metadata": {},
   "outputs": [],
   "source": [
    "# make plots appearing in the notebook\n",
    "%matplotlib inline\n",
    "\n",
    "# a plotting library\n",
    "import matplotlib.pyplot as plt\n",
    "\n",
    "# a numerical library\n",
    "import numpy as np"
   ]
  },
  {
   "cell_type": "code",
   "execution_count": null,
   "metadata": {},
   "outputs": [],
   "source": [
    "X = np.linspace(-5, 5, 100)  # a vector of hundred equally-spaced points\n",
    "Y = np.sin(X)                # sine of each X\n",
    "plt.plot(X, Y)               # a line plot"
   ]
  },
  {
   "cell_type": "markdown",
   "metadata": {},
   "source": [
    "## Displaying other content"
   ]
  },
  {
   "cell_type": "code",
   "execution_count": null,
   "metadata": {},
   "outputs": [],
   "source": [
    "from IPython import display"
   ]
  },
  {
   "cell_type": "code",
   "execution_count": null,
   "metadata": {},
   "outputs": [],
   "source": [
    "display.Image(url=\"http://imgs.xkcd.com/comics/python.png\")"
   ]
  },
  {
   "cell_type": "code",
   "execution_count": null,
   "metadata": {},
   "outputs": [],
   "source": [
    "a = 7"
   ]
  },
  {
   "cell_type": "code",
   "execution_count": null,
   "metadata": {},
   "outputs": [],
   "source": [
    "a = \"python\""
   ]
  },
  {
   "cell_type": "code",
   "execution_count": null,
   "metadata": {},
   "outputs": [],
   "source": [
    "for i in range(2):\n",
    "    print(\"python\")"
   ]
  },
  {
   "cell_type": "code",
   "execution_count": null,
   "metadata": {},
   "outputs": [],
   "source": [
    "display.YouTubeVideo(\"FwUcJFSAfQw\")"
   ]
  },
  {
   "cell_type": "code",
   "execution_count": null,
   "metadata": {},
   "outputs": [],
   "source": [
    "display.Latex(r\"$\\lim_{x \\to 0} (1+x)^{1/x} = e$\")"
   ]
  },
  {
   "cell_type": "markdown",
   "metadata": {},
   "source": [
    "## Interactivity"
   ]
  },
  {
   "cell_type": "code",
   "execution_count": null,
   "metadata": {},
   "outputs": [],
   "source": [
    "import ipywidgets as ipy"
   ]
  },
  {
   "cell_type": "code",
   "execution_count": null,
   "metadata": {},
   "outputs": [],
   "source": [
    "@ipy.interact\n",
    "def greeting(text=\"World\"):\n",
    "    print(\"Hello {}\".format(text.upper()))"
   ]
  },
  {
   "cell_type": "code",
   "execution_count": null,
   "metadata": {},
   "outputs": [],
   "source": [
    "@ipy.interact\n",
    "def greeting(x=2, y=2):\n",
    "    print(\"{} times {} is {}\".format(x, y, x*y))"
   ]
  },
  {
   "cell_type": "code",
   "execution_count": null,
   "metadata": {},
   "outputs": [],
   "source": []
  }
 ],
 "metadata": {
  "kernelspec": {
   "display_name": "Python 3 (ipykernel)",
   "language": "python",
   "name": "python3"
  },
  "language_info": {
   "codemirror_mode": {
    "name": "ipython",
    "version": 3
   },
   "file_extension": ".py",
   "mimetype": "text/x-python",
   "name": "python",
   "nbconvert_exporter": "python",
   "pygments_lexer": "ipython3",
   "version": "3.11.9"
  }
 },
 "nbformat": 4,
 "nbformat_minor": 4
}
