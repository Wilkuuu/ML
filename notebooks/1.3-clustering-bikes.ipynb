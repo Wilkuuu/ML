{
 "cells": [
  {
   "cell_type": "markdown",
   "metadata": {},
   "source": [
    "<img src=\"https://gist.githubusercontent.com/jakubczakon/10e5eb3d5024cc30cdb056d5acd3d92f/raw/5c464c16ccbc7150b4025e0a2a05b84ab99a7bc3/logo_DS_AI.png\" alt=\"Drawing\" width=\"600\"/>\n",
    "\n",
    "# deepsense.ai's workshop"
   ]
  },
  {
   "cell_type": "markdown",
   "metadata": {},
   "source": [
    "## 1.3. Clustering\n",
    "\n",
    "* discovering patterns\n",
    "* simplifying analysis"
   ]
  },
  {
   "cell_type": "code",
   "execution_count": null,
   "metadata": {},
   "outputs": [],
   "source": [
    "import numpy as np\n",
    "import pandas as pd\n",
    "\n",
    "import matplotlib.pyplot as plt\n",
    "%matplotlib inline\n",
    "import seaborn as sns\n",
    "sns.set()"
   ]
  },
  {
   "cell_type": "code",
   "execution_count": null,
   "metadata": {},
   "outputs": [],
   "source": [
    "df = pd.read_csv(\"data/Bike-Sharing-Dataset/day.csv\")"
   ]
  },
  {
   "cell_type": "markdown",
   "metadata": {},
   "source": [
    "## KMeans\n",
    "\n",
    "KMeans is a simple and popular algorithm for clustering.\n",
    "\n",
    "We will cluster days based on similar characteristics - whether bike renting or weather conditions."
   ]
  },
  {
   "cell_type": "code",
   "execution_count": null,
   "metadata": {},
   "outputs": [],
   "source": [
    "from sklearn.cluster import KMeans"
   ]
  },
  {
   "cell_type": "code",
   "execution_count": null,
   "metadata": {},
   "outputs": [],
   "source": [
    "# creating input for clustering\n",
    "feature_1 = 'registered'\n",
    "feature_2 = 'casual'\n",
    "\n",
    "X = df[[feature_1, feature_2]].copy()\n",
    "\n",
    "# scale of variables is crucial for KMeans\n",
    "X = (X - X.mean()) / X.std()"
   ]
  },
  {
   "cell_type": "code",
   "execution_count": null,
   "metadata": {},
   "outputs": [],
   "source": [
    "# creating KMeans classifier\n",
    "kmeans = KMeans(n_clusters=3, random_state=12)"
   ]
  },
  {
   "cell_type": "code",
   "execution_count": null,
   "metadata": {},
   "outputs": [],
   "source": [
    "# training on data\n",
    "# notice that there is only input\n",
    "# (it's unsupervised learning)\n",
    "kmeans.fit(X)"
   ]
  },
  {
   "cell_type": "code",
   "execution_count": null,
   "metadata": {},
   "outputs": [],
   "source": [
    "# we attach it to data;\n",
    "# normalization helps us discriminating low from high values\n",
    "df_clustered = df.copy()\n",
    "dteday = df_clustered['dteday']\n",
    "df_clustered.drop('dteday', axis=1, inplace=True)\n",
    "df_clustered = (df_clustered - df_clustered.mean())/df_clustered.std()\n",
    "df_clustered['dteday'] = dteday\n",
    "df_clustered['cluster'] = kmeans.predict(X)"
   ]
  },
  {
   "cell_type": "code",
   "execution_count": null,
   "metadata": {},
   "outputs": [],
   "source": [
    "df_clustered.head()"
   ]
  },
  {
   "cell_type": "code",
   "execution_count": null,
   "metadata": {},
   "outputs": [],
   "source": [
    "df_clustered_numerical = df_clustered.loc[:, df_clustered.columns != 'dteday']\n",
    "df_clustered_numerical.groupby('cluster').mean()"
   ]
  },
  {
   "cell_type": "code",
   "execution_count": null,
   "metadata": {},
   "outputs": [],
   "source": [
    "# a plot may be more readable\n",
    "sns.heatmap(df_clustered_numerical.groupby('cluster').mean())"
   ]
  },
  {
   "cell_type": "code",
   "execution_count": null,
   "metadata": {},
   "outputs": [],
   "source": [
    "df_clustered.plot(kind='scatter', x=feature_1, y=feature_2)"
   ]
  },
  {
   "cell_type": "code",
   "execution_count": null,
   "metadata": {},
   "outputs": [],
   "source": [
    "sns.pairplot(df_clustered, vars=[feature_1, feature_2], hue=\"cluster\", height=4)"
   ]
  },
  {
   "cell_type": "markdown",
   "metadata": {},
   "source": [
    "## Exercises\n",
    "\n",
    "* Try to interpret these 3 clusters (with clustering on `registered` and `casual`) with plain words. \n",
    "* Try different number of clusters (e.g. `2`, `4`, ...).\n",
    "* ★ Perform clustering using other parameters (e.g. only meteorological).\n",
    "* ★★ Plot the decision boundaries."
   ]
  },
  {
   "cell_type": "markdown",
   "metadata": {},
   "source": [
    "## HDBSCAN\n",
    "\n",
    "- HDBSCAN is one of the most powerful clustering algorithms.\n",
    "- Unlike the *k*-means algorithm, HDBSCAN detects the number of clusters automatically. Moreover, it can classify some observations as not belonging to any cluster, i.e. as outliers."
   ]
  },
  {
   "cell_type": "code",
   "execution_count": null,
   "metadata": {},
   "outputs": [],
   "source": [
    "import hdbscan"
   ]
  },
  {
   "cell_type": "markdown",
   "metadata": {},
   "source": [
    "If you get an error `ModuleNotFoundError: No module named 'hdbscan'`, it means that `hdbscan` library is not installed yed. You can install it on the fly by typing `!pip install hdbscan` in a new cell and running it."
   ]
  },
  {
   "cell_type": "code",
   "execution_count": null,
   "metadata": {},
   "outputs": [],
   "source": [
    "clusterer = hdbscan.HDBSCAN()"
   ]
  },
  {
   "cell_type": "code",
   "execution_count": null,
   "metadata": {},
   "outputs": [],
   "source": [
    "clusterer.fit(X)"
   ]
  },
  {
   "cell_type": "code",
   "execution_count": null,
   "metadata": {},
   "outputs": [],
   "source": [
    "df_clustered['cluster_hdbscan'] = clusterer.labels_"
   ]
  },
  {
   "cell_type": "code",
   "execution_count": null,
   "metadata": {},
   "outputs": [],
   "source": [
    "sns.pairplot(df_clustered, vars=[feature_1, feature_2], hue=\"cluster_hdbscan\", height=4)"
   ]
  },
  {
   "cell_type": "markdown",
   "metadata": {},
   "source": [
    "## Exercise\n",
    "\n",
    "* How many observations are in particular clusters?\n",
    "* Play with the hyperparameters of HDBSCAN to get a satisfactory number of clusters."
   ]
  },
  {
   "cell_type": "code",
   "execution_count": null,
   "metadata": {},
   "outputs": [],
   "source": []
  }
 ],
 "metadata": {
  "kernelspec": {
   "display_name": "Python 3 (ipykernel)",
   "language": "python",
   "name": "python3"
  },
  "language_info": {
   "codemirror_mode": {
    "name": "ipython",
    "version": 3
   },
   "file_extension": ".py",
   "mimetype": "text/x-python",
   "name": "python",
   "nbconvert_exporter": "python",
   "pygments_lexer": "ipython3",
   "version": "3.11.9"
  }
 },
 "nbformat": 4,
 "nbformat_minor": 4
}
